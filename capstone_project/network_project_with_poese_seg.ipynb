{
  "cells": [
    {
      "cell_type": "code",
      "execution_count": null,
      "metadata": {
        "ExecuteTime": {
          "end_time": "2023-11-21T01:06:37.425227700Z",
          "start_time": "2023-11-21T01:06:29.107259Z"
        },
        "id": "fWDf5ebII1tH"
      },
      "outputs": [],
      "source": [
        "import os\n",
        "import numpy as np\n",
        "import cv2\n",
        "import datetime\n",
        "from sklearn.model_selection import train_test_split\n",
        "import tensorflow  as tf\n",
        "from tensorflow.keras.callbacks import TensorBoard\n",
        "from tensorflow.keras.layers import Conv3D , MaxPooling3D , AvgPool3D , Input , Dense ,Flatten, Dropout, BatchNormalization, Activation\n",
        "from tensorflow.keras.models import Model\n",
        "from tensorflow.keras.optimizers import Adam, RMSprop, SGD\n",
        "from keras import backend as K\n",
        "import warnings\n",
        "logger = tf.get_logger()\n",
        "logger.setLevel('ERROR')\n",
        "warnings.filterwarnings('ignore')"
      ]
    },
    {
      "cell_type": "code",
      "execution_count": null,
      "metadata": {
        "id": "eHd24gzJ2_3o"
      },
      "outputs": [],
      "source": [
        "import numpy as np\n",
        "import cv2\n",
        "import os\n",
        "\n",
        "import cv2\n",
        "import numpy as np\n",
        "\n",
        "\n",
        "def load_video(path, frame_count=40, target_size=(299, 299)):\n",
        "    cap = cv2.VideoCapture(path)\n",
        "    frames = []\n",
        "    total_frames = int(cap.get(cv2.CAP_PROP_FRAME_COUNT))\n",
        "    frame_indices = np.linspace(0, total_frames - 1, frame_count, dtype=int)\n",
        "\n",
        "    for frame_index in frame_indices:\n",
        "        cap.set(cv2.CAP_PROP_POS_FRAMES, frame_index)\n",
        "        ret, frame = cap.read()\n",
        "        if ret:\n",
        "            frame = cv2.resize(frame, target_size)\n",
        "            frame = frame / 255.0\n",
        "            frames.append(frame)\n",
        "        else:\n",
        "            break\n",
        "\n",
        "    cap.release()\n",
        "    video_array = np.array(frames)\n",
        "\n",
        "    return video_array\n",
        "\n",
        "\n",
        "def create_dataset(directory, frame_count=40, target_size=(299, 299)):\n",
        "    videos = []\n",
        "    labels = []\n",
        "\n",
        "    for folder in [\"nofoul\", \"foul\"]:\n",
        "        folder_path = os.path.join(directory, folder)\n",
        "        for filename in os.listdir(folder_path):\n",
        "            video_path = os.path.join(folder_path, filename)\n",
        "            video = load_video(video_path, frame_count=frame_count, target_size=target_size)\n",
        "            if video.shape[0] == frame_count:\n",
        "                videos.append(video)\n",
        "                label = 1 if folder == \"foul\" else 0\n",
        "                labels.append(label)\n",
        "\n",
        "    return np.array(videos), np.array(labels)\n"
      ]
    },
    {
      "cell_type": "code",
      "execution_count": null,
      "metadata": {
        "ExecuteTime": {
          "start_time": "2023-11-21T01:06:38.363913700Z"
        },
        "is_executing": true,
        "id": "_iDLwqz_2_3p",
        "outputId": "a3eae5f7-5502-4d88-f761-0b8269cb27a1"
      },
      "outputs": [
        {
          "ename": "MemoryError",
          "evalue": "Unable to allocate 21.1 GiB for an array with shape (264, 40, 299, 299, 3) and data type float64",
          "output_type": "error",
          "traceback": [
            "\u001b[1;31m---------------------------------------------------------------------------\u001b[0m",
            "\u001b[1;31mMemoryError\u001b[0m                               Traceback (most recent call last)",
            "Cell \u001b[1;32mIn[10], line 1\u001b[0m\n\u001b[1;32m----> 1\u001b[0m videos, labels \u001b[38;5;241m=\u001b[39m create_dataset(\u001b[38;5;124m\"\u001b[39m\u001b[38;5;124mC:/Users/iturk/OneDrive/Desktop/Dataset_org\u001b[39m\u001b[38;5;124m\"\u001b[39m)\n",
            "Cell \u001b[1;32mIn[9], line 45\u001b[0m, in \u001b[0;36mcreate_dataset\u001b[1;34m(directory, frame_count, target_size)\u001b[0m\n\u001b[0;32m     42\u001b[0m             label \u001b[38;5;241m=\u001b[39m \u001b[38;5;241m1\u001b[39m \u001b[38;5;28;01mif\u001b[39;00m folder \u001b[38;5;241m==\u001b[39m \u001b[38;5;124m\"\u001b[39m\u001b[38;5;124mfoul\u001b[39m\u001b[38;5;124m\"\u001b[39m \u001b[38;5;28;01melse\u001b[39;00m \u001b[38;5;241m0\u001b[39m\n\u001b[0;32m     43\u001b[0m             labels\u001b[38;5;241m.\u001b[39mappend(label)\n\u001b[1;32m---> 45\u001b[0m \u001b[38;5;28;01mreturn\u001b[39;00m np\u001b[38;5;241m.\u001b[39marray(videos), np\u001b[38;5;241m.\u001b[39marray(labels)\n",
            "\u001b[1;31mMemoryError\u001b[0m: Unable to allocate 21.1 GiB for an array with shape (264, 40, 299, 299, 3) and data type float64"
          ]
        }
      ],
      "source": [
        "videos, labels = create_dataset(\"C:/Users/iturk/OneDrive/Desktop/Dataset_org\")"
      ]
    },
    {
      "cell_type": "code",
      "execution_count": null,
      "metadata": {
        "is_executing": true,
        "id": "3AWnFBez2_3r"
      },
      "outputs": [],
      "source": [
        "X_train, X_val, y_train, y_val = train_test_split(videos, labels, test_size=0.15, random_state=42)"
      ]
    },
    {
      "cell_type": "code",
      "source": [
        "from tensorflow.keras.layers import Input, Conv3D, MaxPooling3D, AvgPool3D, Dense, Flatten, Add\n",
        "from tensorflow.keras.models import Model\n",
        "from ultralytics import YOLO\n",
        "\n",
        "def yolo_pose(inputs):\n",
        "  model = YOLO(\"yolov8n-pose.pt\")  # load a pretained model\n",
        "  poese = model.predict(source='Foul',save=True, imgsz=305,conf=0.2,save_txt=True , boxes = False )  # train the model\n",
        "    return poese\n",
        "\n",
        "def yolo_segmentation(inputs):\n",
        "  model = YOLO(\"yolov8n-seg.pt\")  # load a pretained model\n",
        "  yolo_segmentation_output = model.predict(source='Foul',save=True, imgsz=305,conf=0.2,save_txt=True , boxes = False )  # train the model\n",
        "\n",
        "    return yolo_segmentation_output\n",
        "\n",
        "inputs = Input(shape=(305,305,3))\n",
        "yolo_pose_output = yolo_pose(inputs)\n",
        "yolo_pose_model = Model(inputs=inputs, outputs=yolo_pose_output)\n",
        "\n",
        "inputs = Input(shape=(305,305,3))\n",
        "yolo_segmentation_output = yolo_segmentation(inputs)\n",
        "yolo_segmentation_model = Model(inputs=inputs, outputs=yolo_segmentation_output)\n",
        "\n",
        "combined_output = Add()([yolo_pose_output, yolo_segmentation_output]) # addition +"
      ],
      "metadata": {
        "id": "YhGRt5oZ4Apz"
      },
      "execution_count": null,
      "outputs": []
    },
    {
      "cell_type": "code",
      "execution_count": null,
      "metadata": {
        "id": "wDdyeIm1R4X_"
      },
      "outputs": [],
      "source": [
        "K.clear_session()\n",
        "def inc_block(inputs):\n",
        "    x0 = Conv3D(64,\n",
        "                (1,1,1),\n",
        "                activation='relu',\n",
        "                padding=\"same\")(inputs)\n",
        "    x1 = Conv3D(64,\n",
        "                (1, 1, 1),\n",
        "                activation='relu',\n",
        "                padding=\"same\")(inputs)\n",
        "    x1 = Conv3D(64,\n",
        "                (3, 3, 3),\n",
        "                activation='relu',\n",
        "                padding=\"same\")(x1)\n",
        "    x2 = Conv3D(64,\n",
        "                (1, 1, 1),\n",
        "                activation='relu',\n",
        "                padding=\"same\")(inputs)\n",
        "    x2 = Conv3D(64,\n",
        "                (3, 3, 3),\n",
        "                activation='relu',\n",
        "                padding=\"same\")(x2)\n",
        "    x3 = MaxPooling3D((3, 3, 3),\n",
        "                      (1,1,1),\n",
        "                      padding=\"same\")(inputs)\n",
        "    x3 = Conv3D(64,\n",
        "                (1,1,1),\n",
        "                activation='relu',\n",
        "                padding=\"same\")(x3)\n",
        "    outputs = tf.concat([x0, x1, x2, x3], 4)\n",
        "    return outputs"
      ]
    },
    {
      "cell_type": "code",
      "execution_count": null,
      "metadata": {
        "id": "dAf-Pw55Lj4c"
      },
      "outputs": [],
      "source": [
        "def I3D(inputs):\n",
        "  x = Conv3D(64,\n",
        "             (7,7,7),\n",
        "             (2,2,2),\n",
        "             activation='relu')(inputs)\n",
        "  x = MaxPooling3D((3,3,3),\n",
        "                   (2,2,2),\n",
        "                   padding='same')(x)\n",
        "  x = Conv3D(64,\n",
        "             (1,1,1),\n",
        "             activation='relu')(x)\n",
        "  x = Conv3D(64,\n",
        "             (3,3,3),\n",
        "             activation='relu')(x)\n",
        "  x = MaxPooling3D((3,3,3),\n",
        "                   (2,2,2),\n",
        "                   padding='same')(x)\n",
        "  x = inc_block(x)\n",
        "  x = inc_block(x)\n",
        "  x = MaxPooling3D((3,3,3),\n",
        "                   (2,2,2),\n",
        "                   padding='same')(x)\n",
        "  x = inc_block(x)\n",
        "  x = inc_block(x)\n",
        "  x = inc_block(x)\n",
        "  x = inc_block(x)\n",
        "  x = inc_block(x)\n",
        "  x = MaxPooling3D((2,2,2),\n",
        "                   (2,2,2),\n",
        "                   padding='same')(x)\n",
        "  x = inc_block(x)\n",
        "  x = inc_block(x)\n",
        "  x = AvgPool3D((2,7,7),\n",
        "                strides=(1,1,1),\n",
        "                padding='same')(x)\n",
        "  x = Conv3D(64,\n",
        "             (1,1,1))(x)\n",
        "  x = Flatten()(x)\n",
        "  x = Dense(128,\n",
        "            activation='relu')(x)\n",
        "  x = Dense(1,\n",
        "            activation='sigmoid')(x)\n",
        "  return x"
      ]
    },
    {
      "cell_type": "code",
      "execution_count": null,
      "metadata": {
        "id": "BvDOmx9R2_3t"
      },
      "outputs": [],
      "source": [
        "inputs = Input(shape=(40, 299, 299, 3))\n",
        "outputs = I3D(inputs)"
      ]
    },
    {
      "cell_type": "code",
      "source": [
        "inputs_i3d = Input(shape=(40,299,299,3))\n",
        "i3d_output = I3D(inputs_i3d)\n",
        "\n",
        "final_output = Add()([combined_output, i3d_output]) # addition +\n",
        "\n",
        "combined_model = Model(inputs=[inputs, inputs_i3d], outputs=final_output)"
      ],
      "metadata": {
        "id": "5j7iW5rG5RU5"
      },
      "execution_count": null,
      "outputs": []
    },
    {
      "cell_type": "code",
      "execution_count": null,
      "metadata": {
        "id": "Tuy0RvZfVhpg"
      },
      "outputs": [],
      "source": [
        "model = Model(inputs=inputs,\n",
        "              outputs=outputs)"
      ]
    },
    {
      "cell_type": "code",
      "execution_count": null,
      "metadata": {
        "id": "GWle1wj0qF5I"
      },
      "outputs": [],
      "source": [
        "model.summary()"
      ]
    },
    {
      "cell_type": "code",
      "execution_count": null,
      "metadata": {
        "id": "hdjJJ_X3MfYz"
      },
      "outputs": [],
      "source": [
        "model.compile(optimizer=Adam(learning_rate=0.01),\n",
        "              loss='binary_crossentropy',\n",
        "              metrics=['accuracy'])"
      ]
    },
    {
      "cell_type": "code",
      "execution_count": null,
      "metadata": {
        "id": "CZIa0i0z2_3x"
      },
      "outputs": [],
      "source": [
        "log_dir = \"logs/fit/\" + datetime.datetime.now().strftime(\"%Y%m%d-%H%M%S\")\n",
        "tensorboard_callback = TensorBoard(log_dir=log_dir, histogram_freq=1)"
      ]
    },
    {
      "cell_type": "code",
      "execution_count": null,
      "metadata": {
        "id": "MTxUzzW7pQoK"
      },
      "outputs": [],
      "source": [
        "history = model.fit(X_train,\n",
        "                    y_train,\n",
        "                    batch_size=8,\n",
        "                    validation_data = (X_val, y_val),\n",
        "                    epochs=20,\n",
        "                    callbacks=[tensorboard_callback])"
      ]
    },
    {
      "cell_type": "code",
      "execution_count": null,
      "metadata": {
        "id": "dE1r1d_92_3y"
      },
      "outputs": [],
      "source": []
    }
  ],
  "metadata": {
    "accelerator": "GPU",
    "colab": {
      "gpuType": "T4",
      "provenance": []
    },
    "kernelspec": {
      "display_name": "Python 3 (ipykernel)",
      "language": "python",
      "name": "python3"
    },
    "language_info": {
      "codemirror_mode": {
        "name": "ipython",
        "version": 3
      },
      "file_extension": ".py",
      "mimetype": "text/x-python",
      "name": "python",
      "nbconvert_exporter": "python",
      "pygments_lexer": "ipython3",
      "version": "3.11.5"
    }
  },
  "nbformat": 4,
  "nbformat_minor": 0
}