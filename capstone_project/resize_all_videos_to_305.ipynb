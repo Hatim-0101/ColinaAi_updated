{
  "nbformat": 4,
  "nbformat_minor": 0,
  "metadata": {
    "colab": {
      "provenance": [],
      "gpuType": "T4"
    },
    "kernelspec": {
      "name": "python3",
      "display_name": "Python 3"
    },
    "language_info": {
      "name": "python"
    },
    "accelerator": "GPU"
  },
  "cells": [
    {
      "cell_type": "code",
      "execution_count": null,
      "metadata": {
        "id": "KjXrIbd9wnsu"
      },
      "outputs": [],
      "source": [
        "import os\n",
        "import cv2\n",
        "\n",
        "def resize_videos(input_folder, output_folder, new_size):\n",
        "    # Create the output folder if it doesn't exist\n",
        "    if not os.path.exists(output_folder):\n",
        "        os.makedirs(output_folder)\n",
        "\n",
        "    # Loop through all files in the input folder\n",
        "    for filename in os.listdir(input_folder):\n",
        "        # Check if the file is a video\n",
        "        if filename.lower().endswith(('.mp4', '.avi', '.mov')):  # Add more video formats if needed\n",
        "            # Open the video file\n",
        "            video_path = os.path.join(input_folder, filename)\n",
        "            cap = cv2.VideoCapture(video_path)\n",
        "\n",
        "            # Get the video properties\n",
        "            width = int(cap.get(cv2.CAP_PROP_FRAME_WIDTH))\n",
        "            height = int(cap.get(cv2.CAP_PROP_FRAME_HEIGHT))\n",
        "\n",
        "            # Create VideoWriter object to save resized video\n",
        "            output_path = os.path.join(output_folder, f\"resized_{filename}\")\n",
        "            fourcc = cv2.VideoWriter_fourcc(*'mp4v')  # Specify the codec (codec may vary based on your system)\n",
        "            out = cv2.VideoWriter(output_path, fourcc, 20.0, new_size)  # Change frame rate if needed\n",
        "\n",
        "            # Read frames and resize\n",
        "            while True:\n",
        "                ret, frame = cap.read()\n",
        "                if not ret:\n",
        "                    break\n",
        "                resized_frame = cv2.resize(frame, new_size)\n",
        "                out.write(resized_frame)\n",
        "\n",
        "            # Release resources\n",
        "            cap.release()\n",
        "            out.release()\n",
        "\n",
        "input_folder = \"/content/drive/MyDrive/Dataset_org/NonFoul\"  # Replace with the path to your input videos folder\n",
        "output_folder = \"/content/drive/MyDrive/Dataset_resize305/NonFoul\"  # Replace with the desired output folder\n",
        "new_size = (305, 305)\n",
        "\n",
        "resize_videos(input_folder, output_folder, new_size)"
      ]
    },
    {
      "cell_type": "code",
      "source": [],
      "metadata": {
        "id": "QevXX_4_xBY2"
      },
      "execution_count": null,
      "outputs": []
    }
  ]
}